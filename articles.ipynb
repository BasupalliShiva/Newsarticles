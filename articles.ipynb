{
 "cells": [
  {
   "cell_type": "code",
   "execution_count": 1,
   "metadata": {},
   "outputs": [],
   "source": [
    "import csv\n",
    "import requests\n",
    "from bs4 import BeautifulSoup\n",
    "\n",
    "\n",
    "page = requests.get('https://economictimes.indiatimes.com/archivelist/year-2021,month-1,starttime-44198.cms')\n",
    "\n",
    "soup = BeautifulSoup(page.text, 'html.parser')\n",
    "\n",
    "last_links = soup.find(class_='contentbox5')\n",
    "last_links.decompose()\n",
    "\n",
    "# Create a file to write to, add headers row\n",
    "f = csv.writer(open('articles.csv', 'w'))\n",
    "f.writerow(['Headline', 'Link'])\n",
    "\n",
    "headline = soup.find(class_='content')\n",
    "headline_items = headline.find_all('a')\n",
    "\n",
    "# Use .contents to pull out the <a> tag’s children\n",
    "for head_lines in headline_items:\n",
    "    headlines = head_lines.contents[0]\n",
    "    links = 'https://economictimes.indiatimes.com' + head_lines.get('href')\n",
    "    #print(headlines)\n",
    "    #print(links)\n",
    "    # Add each headline and associated link to a row\n",
    "    f.writerow([headlines, links])"
   ]
  },
  {
   "cell_type": "code",
   "execution_count": null,
   "metadata": {},
   "outputs": [],
   "source": []
  }
 ],
 "metadata": {
  "kernelspec": {
   "display_name": "Python 3",
   "language": "python",
   "name": "python3"
  },
  "language_info": {
   "codemirror_mode": {
    "name": "ipython",
    "version": 3
   },
   "file_extension": ".py",
   "mimetype": "text/x-python",
   "name": "python",
   "nbconvert_exporter": "python",
   "pygments_lexer": "ipython3",
   "version": "3.8.5"
  }
 },
 "nbformat": 4,
 "nbformat_minor": 4
}
